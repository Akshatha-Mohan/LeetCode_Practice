{
 "cells": [
  {
   "cell_type": "markdown",
   "metadata": {},
   "source": [
    "## BFS Pseudo Code"
   ]
  },
  {
   "cell_type": "code",
   "execution_count": 1,
   "metadata": {},
   "outputs": [
    {
     "name": "stdout",
     "output_type": "stream",
     "text": [
      "BFS starting from node 0: 0 1 2 3 4 5 \n"
     ]
    }
   ],
   "source": [
    "from collections import deque\n",
    "\n",
    "def bfs(graph, start):\n",
    "    \"\"\"\n",
    "    Perform BFS on a graph starting from a given node.\n",
    "    \n",
    "    :param graph: Dictionary representing the adjacency list of the graph.\n",
    "    :param start: The starting node for BFS.\n",
    "    \"\"\"\n",
    "    # Create a queue to manage the BFS process\n",
    "    queue = deque()\n",
    "    \n",
    "    # Create a visited set to track visited nodes\n",
    "    visited = set()\n",
    "    \n",
    "    # Mark the start node as visited and enqueue it\n",
    "    visited.add(start)\n",
    "    queue.append(start)\n",
    "    \n",
    "    # While there are nodes in the queue\n",
    "    while queue:\n",
    "        # Dequeue the front node\n",
    "        node = queue.popleft()\n",
    "        \n",
    "        # Process the current node (for example, print it)\n",
    "        print(node, end=\" \")\n",
    "        \n",
    "        # Get all the neighbors of the current node\n",
    "        for neighbor in graph[node]:\n",
    "            # If the neighbor has not been visited\n",
    "            if neighbor not in visited:\n",
    "                # Mark the neighbor as visited\n",
    "                visited.add(neighbor)\n",
    "                # Enqueue the neighbor\n",
    "                queue.append(neighbor)\n",
    "\n",
    "# Example graph represented as an adjacency list\n",
    "graph = {\n",
    "    0: [1, 2],    # Node 0 is connected to nodes 1 and 2\n",
    "    1: [0, 3, 4], # Node 1 is connected to nodes 0, 3, and 4\n",
    "    2: [0, 4],    # Node 2 is connected to nodes 0 and 4\n",
    "    3: [1, 5],    # Node 3 is connected to nodes 1 and 5\n",
    "    4: [1, 2, 5], # Node 4 is connected to nodes 1, 2, and 5\n",
    "    5: [3, 4]     # Node 5 is connected to nodes 3 and 4\n",
    "}\n",
    "\n",
    "# Perform BFS starting from node 0\n",
    "print(\"BFS starting from node 0:\", end=\" \")\n",
    "bfs(graph, 0)\n",
    "print()\n"
   ]
  }
 ],
 "metadata": {
  "kernelspec": {
   "display_name": "base",
   "language": "python",
   "name": "python3"
  },
  "language_info": {
   "codemirror_mode": {
    "name": "ipython",
    "version": 3
   },
   "file_extension": ".py",
   "mimetype": "text/x-python",
   "name": "python",
   "nbconvert_exporter": "python",
   "pygments_lexer": "ipython3",
   "version": "3.9.16"
  }
 },
 "nbformat": 4,
 "nbformat_minor": 2
}
