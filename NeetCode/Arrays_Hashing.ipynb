{
 "cells": [
  {
   "cell_type": "markdown",
   "metadata": {},
   "source": [
    "## Arrays and Hashing"
   ]
  },
  {
   "cell_type": "markdown",
   "metadata": {},
   "source": [
    "## 347. Top K Frequent Elements"
   ]
  },
  {
   "cell_type": "code",
   "execution_count": 3,
   "metadata": {},
   "outputs": [],
   "source": [
    "'''\n",
    "\"Use bucket sort. First use Counter to get frequencies, \n",
    "Then use bucket sort where index is the freq and then from end \n",
    "use for loop to find the most freqent and append that to the result list\n",
    "Check if (len(result) == k => return result when True\"\n",
    "'''\n",
    "from collections import Counter\n",
    "class Solution(object):\n",
    "    def topKFrequent(self, nums, k):\n",
    "        \"\"\"\n",
    "        :type nums: List[int]\n",
    "        :type k: int\n",
    "        :rtype: List[int]\n",
    "        \"\"\"\n",
    "        #Counter take O(n) time\n",
    "        keys = Counter(nums)\n",
    "        bucket = [[] for _ in range(len(nums)+1)]\n",
    "        res = []\n",
    "\n",
    "        #2)\n",
    "        for num, freq in keys.items():\n",
    "            bucket[freq].append(num)\n",
    "        #3)\n",
    "        for i in range(len(bucket) - 1, 0, -1):\n",
    "            for num in bucket[i]:\n",
    "                res.append(num)\n",
    "                if len(res) == k:\n",
    "                    return res\n",
    "\n",
    "        # outputs = []\n",
    "        # output = keys.most_common(k)\n",
    "        # for i in output:\n",
    "        #     outputs.append(i[0])\n",
    "\n",
    "\n",
    "        # return outputs\n",
    "        "
   ]
  },
  {
   "cell_type": "markdown",
   "metadata": {},
   "source": [
    "## 49. Group Anagrams"
   ]
  },
  {
   "cell_type": "code",
   "execution_count": 5,
   "metadata": {},
   "outputs": [],
   "source": [
    "class Solution(object):\n",
    "    def groupAnagrams(self, strs):\n",
    "        \"\"\"\n",
    "        :type strs: List[str]\n",
    "        :rtype: List[List[str]]\n",
    "        \"\"\"\n",
    "        '''\n",
    "        Use a defaultdict to store the sorted words as keys in the dictionary and \n",
    "        return the values of these corresponding keys as a list\n",
    "        TC: O(n) + O(klogk) = because we are sorting it is klogk and O(n) as we go through each string in the list\n",
    "        '''\n",
    "        from collections import defaultdict\n",
    "\n",
    "        anagrams = defaultdict(list)  # Dictionary to store anagram groups\n",
    "        \n",
    "        for word in strs:\n",
    "            sorted_word = ''.join(sorted(word))  # Sort the word to get the key\n",
    "            print(sorted_word)\n",
    "            anagrams[sorted_word].append(word)   # Add to the corresponding anagram group\n",
    "        \n",
    "        return list(anagrams.values())  # Return only the grouped words\n",
    "\n"
   ]
  }
 ],
 "metadata": {
  "kernelspec": {
   "display_name": "base",
   "language": "python",
   "name": "python3"
  },
  "language_info": {
   "codemirror_mode": {
    "name": "ipython",
    "version": 3
   },
   "file_extension": ".py",
   "mimetype": "text/x-python",
   "name": "python",
   "nbconvert_exporter": "python",
   "pygments_lexer": "ipython3",
   "version": "3.9.16"
  }
 },
 "nbformat": 4,
 "nbformat_minor": 2
}
