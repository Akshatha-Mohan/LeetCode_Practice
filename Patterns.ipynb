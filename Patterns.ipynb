{
 "cells": [
  {
   "cell_type": "markdown",
   "metadata": {},
   "source": [
    "# Sliding Window"
   ]
  },
  {
   "cell_type": "markdown",
   "metadata": {},
   "source": [
    "## Contains Duplicate II"
   ]
  },
  {
   "cell_type": "code",
   "execution_count": 1,
   "metadata": {},
   "outputs": [],
   "source": [
    "class Solution(object):\n",
    "    def containsNearbyDuplicate(self, nums, k):\n",
    "        \"\"\"\n",
    "        :type nums: List[int]\n",
    "        :type k: int\n",
    "        :rtype: bool\n",
    "        \"\"\"\n",
    "\n",
    "\n",
    "        window = set()\n",
    "        left = 0\n",
    "        for right in range(len(nums)):\n",
    "            if right - left > k:\n",
    "                window.remove(nums[left])\n",
    "                left += 1\n",
    "            if nums[right] in window:\n",
    "                return True\n",
    "            window.add(nums[right])\n",
    "        return False"
   ]
  },
  {
   "cell_type": "markdown",
   "metadata": {},
   "source": [
    "## 594. Longest Harmonious Subsequence"
   ]
  },
  {
   "cell_type": "code",
   "execution_count": null,
   "metadata": {},
   "outputs": [],
   "source": [
    "class Solution(object):\n",
    "    def findLHS(self, nums):\n",
    "        \"\"\"\n",
    "        :type nums: List[int]\n",
    "        :rtype: int\n",
    "        \"\"\"\n",
    "\n",
    "        freq = {}\n",
    "        for num in nums:\n",
    "            freq[num] = freq.get(num, 0) + 1\n",
    "        \n",
    "        max_length = 0\n",
    "        for num in freq:\n",
    "            # If num+1 exists in the array, we have a harmonious subsequence\n",
    "            if num + 1 in freq:\n",
    "                # Length is sum of frequencies of num and num+1\n",
    "                length = freq[num] + freq[num + 1]\n",
    "                max_length = max(max_length, length)\n",
    "        \n",
    "        return max_length"
   ]
  },
  {
   "cell_type": "markdown",
   "metadata": {},
   "source": [
    "## Defuse the Bomb"
   ]
  },
  {
   "cell_type": "code",
   "execution_count": 1,
   "metadata": {},
   "outputs": [],
   "source": [
    "\"\"\"\n",
    "You have a bomb to defuse, and your time is running out! Your informer will provide you with a circular array code of length of n and a key k.\n",
    "To decrypt the code, you must replace every number. All the numbers are replaced simultaneously.\n",
    "\n",
    "If k > 0, replace the ith number with the sum of the next k numbers.\n",
    "If k < 0, replace the ith number with the sum of the previous k numbers.\n",
    "If k == 0, replace the ith number with 0.\n",
    "As code is circular, the next element of code[n-1] is code[0], and the previous element of code[0] is code[n-1].\n",
    "\n",
    "Given the circular array code and an integer key k, return the decrypted code to defuse the bomb!\n",
    "\n",
    " \n",
    "\n",
    "Example 1:\n",
    "\n",
    "Input: code = [5,7,1,4], k = 3\n",
    "Output: [12,10,16,13]\n",
    "Explanation: Each number is replaced by the sum of the next 3 numbers. The decrypted code is [7+1+4, 1+4+5, 4+5+7, 5+7+1]. \n",
    "Notice that the numbers wrap around.\n",
    "\"\"\"\n",
    "\n",
    "\n",
    "\n",
    "class Solution(object):\n",
    "    def decrypt(self, code, k):\n",
    "        \"\"\"\n",
    "        :type code: List[int]\n",
    "        :type k: int\n",
    "        :rtype: List[int]\n",
    "        \"\"\"\n",
    "        N = len(code)\n",
    "        result = [0] * N\n",
    "        start, end, window_sum = 1,k,0\n",
    "        \n",
    "        if k<0:\n",
    "            start, end = N-abs(k), N-1\n",
    "\n",
    "        for i in range(start, end+1):\n",
    "            window_sum += code[i]\n",
    "\n",
    "        for i in range(len(code)):\n",
    "            result[i] = window_sum\n",
    "            window_sum -= code[start % N]\n",
    "            window_sum += code[(end+1) % N]\n",
    "            start += 1\n",
    "            end += 1\n",
    "        return result"
   ]
  },
  {
   "cell_type": "markdown",
   "metadata": {},
   "source": [
    "## Substrings of Size Three with Distinct Characters"
   ]
  },
  {
   "cell_type": "code",
   "execution_count": 2,
   "metadata": {},
   "outputs": [],
   "source": [
    "\"\"\"\n",
    "A string is good if there are no repeated characters. Given a string s​​​​​, return the number of good substrings of length three in s​​​​​​.\n",
    "Note that if there are multiple occurrences of the same substring, every occurrence should be counted.\n",
    "A substring is a contiguous sequence of characters in a string.\n",
    "\n",
    " \n",
    "Example 1:\n",
    "\n",
    "Input: s = \"xyzzaz\"\n",
    "Output: 1\n",
    "Explanation: There are 4 substrings of size 3: \"xyz\", \"yzz\", \"zza\", and \"zaz\". \n",
    "The only good substring of length 3 is \"xyz\".\n",
    "\"\"\"\n",
    "\n",
    "\n",
    "class Solution(object):\n",
    "    def countGoodSubstrings(self, s):\n",
    "        \"\"\"\n",
    "        :type s: str\n",
    "        :rtype: int\n",
    "        \"\"\"\n",
    "        if len(s) < 3:\n",
    "            return 0\n",
    "            \n",
    "        count = 0\n",
    "        # We only need to go up to len(s)-2 because we're looking at 3 chars at a time\n",
    "        for i in range(len(s)-2):\n",
    "            # Get substring of length 3\n",
    "            substr = s[i:i+3]\n",
    "            # If length of set equals 3, all characters are unique\n",
    "            if len(set(substr)) == 3:\n",
    "                count += 1\n",
    "        return count\n"
   ]
  }
 ],
 "metadata": {
  "kernelspec": {
   "display_name": "base",
   "language": "python",
   "name": "python3"
  },
  "language_info": {
   "codemirror_mode": {
    "name": "ipython",
    "version": 3
   },
   "file_extension": ".py",
   "mimetype": "text/x-python",
   "name": "python",
   "nbconvert_exporter": "python",
   "pygments_lexer": "ipython3",
   "version": "3.9.16"
  }
 },
 "nbformat": 4,
 "nbformat_minor": 2
}
